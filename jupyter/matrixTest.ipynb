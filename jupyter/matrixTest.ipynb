{
 "cells": [
  {
   "metadata": {},
   "cell_type": "markdown",
   "source": "## Step 1: Load the necessary libraries",
   "id": "dbfc85e876a264fc"
  },
  {
   "metadata": {},
   "cell_type": "code",
   "outputs": [],
   "execution_count": null,
   "source": [
    "import matplotlib.pyplot\n",
    "import numpy as np\n",
    "import h5py"
   ],
   "id": "9126709ee99cccb8"
  },
  {
   "metadata": {},
   "cell_type": "markdown",
   "source": "Setting the variables to pull the data and labels out of the HDF5 file",
   "id": "1e0e72f6b9a23af4"
  },
  {
   "metadata": {},
   "cell_type": "code",
   "outputs": [],
   "execution_count": null,
   "source": [
    "data = 'matrix_of_128'\n",
    "labels = 'labels_for_128'"
   ],
   "id": "4c43e1c001f06682"
  },
  {
   "metadata": {},
   "cell_type": "markdown",
   "source": "Opening a \"synthetic_data.h5\" file",
   "id": "d4c40d10d82d0fb6"
  },
  {
   "metadata": {},
   "cell_type": "code",
   "outputs": [],
   "execution_count": null,
   "source": "handle = h5py.File('synthetic_data.h5', 'r')",
   "id": "94b33975f9d3b40d"
  },
  {
   "metadata": {},
   "cell_type": "markdown",
   "source": "Converting the matrices part of the handle to a NumPy set of matrices",
   "id": "eed72ebdc69b8c6b"
  },
  {
   "metadata": {},
   "cell_type": "code",
   "outputs": [],
   "execution_count": null,
   "source": "matrices = np.array(handle[data])",
   "id": "952b5eedb564e342"
  },
  {
   "metadata": {},
   "cell_type": "markdown",
   "source": "Pulling the first matrix off the stack of matrices",
   "id": "fabe209dd24a532f"
  },
  {
   "metadata": {},
   "cell_type": "code",
   "outputs": [],
   "execution_count": null,
   "source": "testMatrix = matrices[:,:,0]",
   "id": "a62589030a9816b0"
  },
  {
   "metadata": {},
   "cell_type": "markdown",
   "source": "Plotting the spy plot to see the block structure",
   "id": "c40fc62b748491ff"
  },
  {
   "metadata": {},
   "cell_type": "code",
   "outputs": [],
   "execution_count": null,
   "source": [
    "matplotlib.pyplot.spy(testMatrix)\n",
    "matplotlib.pyplot.show()"
   ],
   "id": "bf3cd28f098155d2"
  },
  {
   "metadata": {},
   "cell_type": "markdown",
   "source": "Grabbing the corresponding labels",
   "id": "e4a3728cb8774bd1"
  },
  {
   "metadata": {},
   "cell_type": "code",
   "outputs": [],
   "execution_count": null,
   "source": [
    "blockSizes = np.array(handle[labels])\n",
    "print(blockSizes)\n",
    "for i in range(blockSizes.shape[0]):\n",
    "    blockSizes[i] = blockSizes[i][0]\n",
    "print(blockSizes)\n",
    "testBlockSizes = blockSizes[:,0]"
   ],
   "id": "425547f363231f70"
  },
  {
   "metadata": {},
   "cell_type": "markdown",
   "source": [
    "Now we're going to import the modules needed to actually solve the system.\n",
    "\n",
    "**Note**: by \"solve\" the system, we are going to try and solve the equation\n",
    "\n",
    "$ Ax = b $\n",
    "\n",
    "Where $A$ is the matrix we pulled out of the synthetic data set, $x$ is what we're solving for, and $b$ isn't too important for us, so we'll initialize it to all 1's in this step as well.\n",
    "\n"
   ],
   "id": "f417529956023488"
  },
  {
   "metadata": {},
   "cell_type": "code",
   "outputs": [],
   "execution_count": null,
   "source": [
    "from scipy.sparse.linalg import gmres\n",
    "from scipy.sparse.linalg import LinearOperator\n",
    "\n",
    "b = np.ones(testMatrix.shape[0])"
   ],
   "id": "21031e5a57f4ccc7"
  },
  {
   "metadata": {},
   "cell_type": "markdown",
   "source": "Creating a callback class to better monitor residual progression",
   "id": "2aefc9a81f95e15e"
  },
  {
   "metadata": {},
   "cell_type": "code",
   "outputs": [],
   "execution_count": null,
   "source": [
    "class GMRESCallback:\n",
    "    \"\"\"\n",
    "    Callback class for monitoring GMRES convergence.\n",
    "    Records the residual values provided directly by GMRES.\n",
    "    \"\"\"\n",
    "    def __init__(self):\n",
    "        \"\"\"\n",
    "        Initialize the callback to store convergence history.\n",
    "        \"\"\"\n",
    "        self.residuals: List[float] = []\n",
    "        self.iterations: int = 0\n",
    "        \n",
    "    def __call__(self, residual_norm: float) -> None:\n",
    "        \"\"\"\n",
    "        Called by GMRES after each iteration with the residual norm.\n",
    "        \n",
    "        Args:\n",
    "            residual_norm: The norm of the current residual, provided by GMRES\n",
    "        \"\"\"\n",
    "        # The input is already the residual norm - no need to compute it\n",
    "        self.residuals.append(float(residual_norm))\n",
    "        self.iterations += 1\n",
    "        \n",
    "        # Optional: Print progress\n",
    "        print(f\"Iteration {self.iterations}: residual = {residual_norm:.2e}\")"
   ],
   "id": "88501ca1b258b446"
  },
  {
   "metadata": {},
   "cell_type": "markdown",
   "source": "Initializing the callback class",
   "id": "a4617ad7f8265970"
  },
  {
   "metadata": {},
   "cell_type": "code",
   "outputs": [],
   "execution_count": null,
   "source": "callback = GMRESCallback()",
   "id": "8f1cb7677a809d00"
  },
  {
   "metadata": {},
   "cell_type": "markdown",
   "source": [
    "And now we can \"solve\" the system\n",
    "\n",
    "*Solve is in quotes here since we're probably not going be able to find a solution to a random matrix*"
   ],
   "id": "2afba4289eecb4a3"
  },
  {
   "metadata": {},
   "cell_type": "code",
   "outputs": [],
   "execution_count": null,
   "source": [
    "x, info = gmres(testMatrix, b,\n",
    "                callback=callback, # Tag along the callback\n",
    "                tol=1e-5,           # Convergence tolerance\n",
    "                maxiter=1000,       # Maximum iterations\n",
    "                restart=20,         # Restart parameter\n",
    "                atol=1e-8)         # Absolute tolerance"
   ],
   "id": "f02c32951724bf5"
  },
  {
   "metadata": {},
   "cell_type": "markdown",
   "source": "Plot the residual progression over time",
   "id": "4c1da374f7eaa20f"
  },
  {
   "metadata": {},
   "cell_type": "code",
   "outputs": [],
   "execution_count": null,
   "source": "matplotlib.pyplot.plot(callback.residuals)",
   "id": "e9dc4852939d9252"
  },
  {
   "metadata": {},
   "cell_type": "markdown",
   "source": [
    "So we're getting close to a solution pretty quickly, but we still have some decent amount of error.\n",
    "\n",
    "For reference, application areas where you don't care too much about the quality of the solution might aim for a residual, $r < 10^{-3}$. In more precise areas of science and engineering, it's more common to aim for things like $10^{-6}$ to $10^{-9}$. Our \"solution\" of $\\approx 10^{-1}$ isn't great.\n",
    "\n",
    "We can try adding some weight to the diagonal to make the matrix more solvable."
   ],
   "id": "90ca94b13849162e"
  },
  {
   "metadata": {},
   "cell_type": "code",
   "outputs": [],
   "execution_count": null,
   "source": "testMatrixTwo = testMatrix + 10 * np.eye(testMatrix.shape[0])",
   "id": "3acf9c406f02b894"
  },
  {
   "metadata": {},
   "cell_type": "code",
   "outputs": [],
   "execution_count": null,
   "source": [
    "xTwo, infoTwo = gmres(testMatrixTwo, b,\n",
    "                callback=callback, # Tag along the callback\n",
    "                callback_type='pr_norm',\n",
    "                rtol=1e-5,           # Convergence tolerance\n",
    "                maxiter=1000,       # Maximum iterations\n",
    "                restart=20,         # Restart parameter\n",
    "                atol=1e-8)         # Absolute tolerance\n",
    "\n",
    "matplotlib.pyplot.plot(callback.residuals)\n"
   ],
   "id": "d156c65dd8233d0f"
  },
  {
   "metadata": {},
   "cell_type": "markdown",
   "source": [
    "\n",
    "\n",
    "\n",
    "The block size algorithm we're finding is supposed to help us with how well we can solve systems like this. We're going to stick with GMRES as an algorithm, but add one more parameter, M. M is going to represent our \"preconditioner\". Our preconditioner should help by either:\n",
    "* Helping us converge to a smaller residual\n",
    "* Helping us converge to a similar residual more quickly\n",
    "\n",
    "Choosing the right preconditioner is very difficult.\n",
    "\n",
    "The thrust of our research (or the reason someone would care about us predicting block sizes well) is to help the user properly configure one of the most common preconditioners for GMRES (or similar matrix solution algorithms).\n",
    "\n",
    "Unfortunately, SciPy doesn't have a built-in Block Jacobi preconditioner, so we have to write one. This needs to be a thing of class \"LinearOperator\" from SciPy."
   ],
   "id": "ca7187d97c47b2bf"
  },
  {
   "metadata": {},
   "cell_type": "code",
   "outputs": [],
   "execution_count": null,
   "source": [
    "def create_block_jacobi_preconditioner(A, block_size):\n",
    "    n = A.shape[0]\n",
    "    \n",
    "    # Extract and invert diagonal blocks\n",
    "    blocks = []\n",
    "    for i in range(0, n, block_size):\n",
    "        end = min(i + block_size, n)\n",
    "        block = A[i:end, i:end]\n",
    "        blocks.append(np.linalg.inv(block))\n",
    "    \n",
    "    def matvec(x):\n",
    "        result = np.zeros_like(x)\n",
    "        for i, block in enumerate(blocks):\n",
    "            start = i * block_size\n",
    "            end = min(start + block_size, n)\n",
    "            result[start:end] = block @ x[start:end]\n",
    "        return result\n",
    "    \n",
    "    return LinearOperator(A.shape, matvec)"
   ],
   "id": "dbdbe5113d1fc4b6"
  },
  {
   "metadata": {},
   "cell_type": "markdown",
   "source": "Now, given a matrix and a desired block size, we can find the optimal block size based on the effect on GMRES. Let's create a couple preconditioners.",
   "id": "d3213112fdbf9b52"
  },
  {
   "metadata": {},
   "cell_type": "code",
   "outputs": [],
   "execution_count": null,
   "source": [
    "M1 = create_block_jacobi_preconditioner(testMatrixTwo, block_size=1)\n",
    "M2 = create_block_jacobi_preconditioner(testMatrixTwo, block_size=2)\n",
    "M4 = create_block_jacobi_preconditioner(testMatrixTwo, block_size=4)\n",
    "M6 = create_block_jacobi_preconditioner(testMatrixTwo, block_size=6)\n",
    "M8 = create_block_jacobi_preconditioner(testMatrixTwo, block_size=8)"
   ],
   "id": "b02bb9ae548f5eeb"
  },
  {
   "metadata": {},
   "cell_type": "code",
   "outputs": [],
   "execution_count": null,
   "source": [
    "callback1 = GMRESCallback()\n",
    "x1, info1 = gmres(testMatrixTwo, b,\n",
    "                M=M1,\n",
    "                callback=callback1, # Tag along the callback\n",
    "                callback_type='pr_norm',\n",
    "                rtol=1e-5,           # Convergence tolerance\n",
    "                maxiter=1000,       # Maximum iterations\n",
    "                restart=20,         # Restart parameter\n",
    "                atol=1e-8)         # Absolute tolerance\n",
    "\n",
    "callback2 = GMRESCallback()\n",
    "x2, info2 = gmres(testMatrixTwo, b,\n",
    "                M=M2,\n",
    "                callback=callback2, # Tag along the callback\n",
    "                callback_type='pr_norm',\n",
    "                rtol=1e-5,           # Convergence tolerance\n",
    "                maxiter=1000,       # Maximum iterations\n",
    "                restart=20,         # Restart parameter\n",
    "                atol=1e-8)         # Absolute tolerance\n",
    "\n",
    "callback4 = GMRESCallback()\n",
    "x4, info4 = gmres(testMatrixTwo, b,\n",
    "                M=M4,\n",
    "                callback=callback4, # Tag along the callback\n",
    "                callback_type='pr_norm',\n",
    "                rtol=1e-5,           # Convergence tolerance\n",
    "                maxiter=1000,       # Maximum iterations\n",
    "                restart=20,         # Restart parameter\n",
    "                atol=1e-8)         # Absolute tolerance\n",
    "\n",
    "callback6 = GMRESCallback()\n",
    "x6, info6 = gmres(testMatrixTwo, b,\n",
    "                M=M6,\n",
    "                callback=callback6, # Tag along the callback\n",
    "                callback_type='pr_norm',\n",
    "                rtol=1e-5,           # Convergence tolerance\n",
    "                maxiter=1000,       # Maximum iterations\n",
    "                restart=20,         # Restart parameter\n",
    "                atol=1e-8)         # Absolute tolerance\n",
    "\n",
    "callback8 = GMRESCallback()\n",
    "x8, info8 = gmres(testMatrixTwo, b,\n",
    "                M=M8,\n",
    "                callback=callback8, # Tag along the callback\n",
    "                callback_type='pr_norm',\n",
    "                rtol=1e-5,           # Convergence tolerance\n",
    "                maxiter=1000,       # Maximum iterations\n",
    "                restart=20,         # Restart parameter\n",
    "                atol=1e-8)         # Absolute tolerance\n",
    "\n"
   ],
   "id": "26229e807ddab89e"
  },
  {
   "metadata": {},
   "cell_type": "code",
   "outputs": [],
   "execution_count": null,
   "source": "",
   "id": "54a61cf8215b98b1"
  }
 ],
 "metadata": {
  "kernelspec": {
   "display_name": "Python 3",
   "language": "python",
   "name": "python3"
  },
  "language_info": {
   "codemirror_mode": {
    "name": "ipython",
    "version": 2
   },
   "file_extension": ".py",
   "mimetype": "text/x-python",
   "name": "python",
   "nbconvert_exporter": "python",
   "pygments_lexer": "ipython2",
   "version": "2.7.6"
  }
 },
 "nbformat": 4,
 "nbformat_minor": 5
}
